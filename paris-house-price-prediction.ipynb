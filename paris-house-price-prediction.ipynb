{
 "cells": [
  {
   "cell_type": "code",
   "execution_count": 1,
   "id": "58bf275c",
   "metadata": {
    "execution": {
     "iopub.execute_input": "2022-06-23T17:50:47.008516Z",
     "iopub.status.busy": "2022-06-23T17:50:47.007227Z",
     "iopub.status.idle": "2022-06-23T17:50:48.851890Z",
     "shell.execute_reply": "2022-06-23T17:50:48.850775Z"
    },
    "papermill": {
     "duration": 1.854055,
     "end_time": "2022-06-23T17:50:48.855650",
     "exception": false,
     "start_time": "2022-06-23T17:50:47.001595",
     "status": "completed"
    },
    "tags": []
   },
   "outputs": [
    {
     "name": "stdout",
     "output_type": "stream",
     "text": [
      "Validation MAE for Random Forest Model: 2,575,152\n"
     ]
    }
   ],
   "source": [
    "# Import helpful libraries\n",
    "import pandas as pd\n",
    "from sklearn.ensemble import RandomForestRegressor\n",
    "from sklearn.metrics import mean_absolute_error\n",
    "from sklearn.model_selection import train_test_split\n",
    "\n",
    "# Load the data, and separate the target\n",
    "iowa_file_path = '../input/paris-house-price-prediction/ParisHousing/train.csv'\n",
    "home_data = pd.read_csv(iowa_file_path)\n",
    "y = home_data.price\n",
    "\n",
    "# Create X (After completing the exercise, you can return to modify this line!)\n",
    "features = ['squareMeters','numberOfRooms','hasYard','hasPool','floors','cityCode','cityPartRange','numPrevOwners',\n",
    "            'made','isNewBuilt','hasStormProtector','basement','attic','garage','hasStorageRoom','hasGuestRoom'\n",
    "            ]\n",
    "# Select columns corresponding to features, and preview the data\n",
    "X = home_data[features]\n",
    "X.head()\n",
    "\n",
    "# Split into validation and training data\n",
    "train_X, val_X, train_y, val_y = train_test_split(X, y, random_state=1)\n",
    "\n",
    "# Define a random forest model\n",
    "rf_model = RandomForestRegressor(random_state=1)\n",
    "rf_model.fit(train_X, train_y)\n",
    "rf_val_predictions = rf_model.predict(val_X)\n",
    "rf_val_mae = mean_absolute_error(rf_val_predictions, val_y)\n",
    "\n",
    "print(\"Validation MAE for Random Forest Model: {:,.0f}\".format(rf_val_mae))"
   ]
  },
  {
   "cell_type": "code",
   "execution_count": 2,
   "id": "9295d8f5",
   "metadata": {
    "execution": {
     "iopub.execute_input": "2022-06-23T17:50:48.863638Z",
     "iopub.status.busy": "2022-06-23T17:50:48.863234Z",
     "iopub.status.idle": "2022-06-23T17:50:49.562217Z",
     "shell.execute_reply": "2022-06-23T17:50:49.561084Z"
    },
    "papermill": {
     "duration": 0.704979,
     "end_time": "2022-06-23T17:50:49.564531",
     "exception": false,
     "start_time": "2022-06-23T17:50:48.859552",
     "status": "completed"
    },
    "tags": []
   },
   "outputs": [
    {
     "data": {
      "text/plain": [
       "RandomForestRegressor()"
      ]
     },
     "execution_count": 2,
     "metadata": {},
     "output_type": "execute_result"
    }
   ],
   "source": [
    "# To improve accuracy, create a new Random Forest model which you will train on all training data\n",
    "rf_model_on_full_data = RandomForestRegressor()\n",
    "rf_model_on_full_data.fit(X, y)\n"
   ]
  },
  {
   "cell_type": "code",
   "execution_count": 3,
   "id": "1bd41870",
   "metadata": {
    "execution": {
     "iopub.execute_input": "2022-06-23T17:50:49.571518Z",
     "iopub.status.busy": "2022-06-23T17:50:49.571123Z",
     "iopub.status.idle": "2022-06-23T17:50:49.599926Z",
     "shell.execute_reply": "2022-06-23T17:50:49.598929Z"
    },
    "papermill": {
     "duration": 0.035289,
     "end_time": "2022-06-23T17:50:49.602482",
     "exception": false,
     "start_time": "2022-06-23T17:50:49.567193",
     "status": "completed"
    },
    "tags": []
   },
   "outputs": [],
   "source": [
    "test_data_path = '../input/paris-house-price-prediction/ParisHousing/test.csv'\n",
    "test_data = pd.read_csv(test_data_path)\n",
    "test_X = test_data[features]\n",
    "test_preds = rf_model_on_full_data.predict(test_X)\n"
   ]
  },
  {
   "cell_type": "code",
   "execution_count": 4,
   "id": "c9f8ed15",
   "metadata": {
    "execution": {
     "iopub.execute_input": "2022-06-23T17:50:49.609491Z",
     "iopub.status.busy": "2022-06-23T17:50:49.608724Z",
     "iopub.status.idle": "2022-06-23T17:50:49.619029Z",
     "shell.execute_reply": "2022-06-23T17:50:49.618140Z"
    },
    "papermill": {
     "duration": 0.016413,
     "end_time": "2022-06-23T17:50:49.621482",
     "exception": false,
     "start_time": "2022-06-23T17:50:49.605069",
     "status": "completed"
    },
    "tags": []
   },
   "outputs": [],
   "source": [
    "# Run the code to save predictions in the format used for competition scoring\n",
    "\n",
    "output = pd.DataFrame({'ID': test_data.ID,\n",
    "                       'price': test_preds})\n",
    "output.to_csv('submission.csv', index=False)"
   ]
  }
 ],
 "metadata": {
  "kernelspec": {
   "display_name": "Python 3",
   "language": "python",
   "name": "python3"
  },
  "language_info": {
   "codemirror_mode": {
    "name": "ipython",
    "version": 3
   },
   "file_extension": ".py",
   "mimetype": "text/x-python",
   "name": "python",
   "nbconvert_exporter": "python",
   "pygments_lexer": "ipython3",
   "version": "3.7.12"
  },
  "papermill": {
   "default_parameters": {},
   "duration": 13.619258,
   "end_time": "2022-06-23T17:50:50.446068",
   "environment_variables": {},
   "exception": null,
   "input_path": "__notebook__.ipynb",
   "output_path": "__notebook__.ipynb",
   "parameters": {},
   "start_time": "2022-06-23T17:50:36.826810",
   "version": "2.3.4"
  }
 },
 "nbformat": 4,
 "nbformat_minor": 5
}
